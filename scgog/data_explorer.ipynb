{
 "cells": [
  {
   "cell_type": "code",
   "execution_count": 1,
   "metadata": {},
   "outputs": [
    {
     "name": "stderr",
     "output_type": "stream",
     "text": [
      "c:\\Users\\Dorzhey\\anaconda3\\envs\\scgog_env\\Lib\\site-packages\\tqdm\\auto.py:21: TqdmWarning: IProgress not found. Please update jupyter and ipywidgets. See https://ipywidgets.readthedocs.io/en/stable/user_install.html\n",
      "  from .autonotebook import tqdm as notebook_tqdm\n"
     ]
    }
   ],
   "source": [
    "from data_preprocessing import preprocess_omics_data"
   ]
  },
  {
   "cell_type": "code",
   "execution_count": 9,
   "metadata": {},
   "outputs": [
    {
     "name": "stderr",
     "output_type": "stream",
     "text": [
      "c:\\Users\\Dorzhey\\anaconda3\\envs\\scgog_env\\Lib\\site-packages\\anndata\\_core\\anndata.py:1908: UserWarning: Variable names are not unique. To make them unique, call `.var_names_make_unique`.\n",
      "  utils.warn_names_duplicates(\"var\")\n",
      "c:\\Users\\Dorzhey\\anaconda3\\envs\\scgog_env\\Lib\\site-packages\\anndata\\_core\\anndata.py:1908: UserWarning: Variable names are not unique. To make them unique, call `.var_names_make_unique`.\n",
      "  utils.warn_names_duplicates(\"var\")\n"
     ]
    },
    {
     "name": "stdout",
     "output_type": "stream",
     "text": [
      "Added `interval` annotation for features from C:\\Users\\Dorzhey\\OneDrive\\Desktop\\576\\project\\scgog\\data\\pbmc\\pbmc_granulocyte_sorted_3k_filtered_feature_bc_matrix.h5\n"
     ]
    },
    {
     "name": "stderr",
     "output_type": "stream",
     "text": [
      "c:\\Users\\Dorzhey\\anaconda3\\envs\\scgog_env\\Lib\\site-packages\\mudata\\_core\\mudata.py:479: UserWarning: var_names are not unique. To make them unique, call `.var_names_make_unique`.\n",
      "  warnings.warn(\n"
     ]
    },
    {
     "data": {
      "text/html": [
       "<pre>MuData object with n_obs × n_vars = 2711 × 134920\n",
       "  var:\t&#x27;gene_ids&#x27;, &#x27;feature_types&#x27;, &#x27;genome&#x27;, &#x27;interval&#x27;\n",
       "  2 modalities\n",
       "    rna:\t2711 x 36601\n",
       "      var:\t&#x27;gene_ids&#x27;, &#x27;feature_types&#x27;, &#x27;genome&#x27;, &#x27;interval&#x27;\n",
       "    atac:\t2711 x 98319\n",
       "      var:\t&#x27;gene_ids&#x27;, &#x27;feature_types&#x27;, &#x27;genome&#x27;, &#x27;interval&#x27;</pre>"
      ],
      "text/plain": [
       "MuData object with n_obs × n_vars = 2711 × 134920\n",
       "  var:\t'gene_ids', 'feature_types', 'genome', 'interval'\n",
       "  2 modalities\n",
       "    rna:\t2711 x 36601\n",
       "      var:\t'gene_ids', 'feature_types', 'genome', 'interval'\n",
       "    atac:\t2711 x 98319\n",
       "      var:\t'gene_ids', 'feature_types', 'genome', 'interval'"
      ]
     },
     "execution_count": 9,
     "metadata": {},
     "output_type": "execute_result"
    }
   ],
   "source": [
    "import os\n",
    "import argparse\n",
    "import sys\n",
    "\n",
    "abs_path = \"C:\\\\Users\\\\Dorzhey\\\\OneDrive\\\\Desktop\\\\576\\\\project\\\\scgog\\\\data\\\\pbmc\\\\pbmc_granulocyte_sorted_3k_filtered_feature_bc_matrix.h5\"\n",
    "\n",
    "preprocess_omics_data(abs_path, \"rna\")"
   ]
  }
 ],
 "metadata": {
  "kernelspec": {
   "display_name": "scgog_env",
   "language": "python",
   "name": "python3"
  },
  "language_info": {
   "codemirror_mode": {
    "name": "ipython",
    "version": 3
   },
   "file_extension": ".py",
   "mimetype": "text/x-python",
   "name": "python",
   "nbconvert_exporter": "python",
   "pygments_lexer": "ipython3",
   "version": "3.11.7"
  }
 },
 "nbformat": 4,
 "nbformat_minor": 2
}
